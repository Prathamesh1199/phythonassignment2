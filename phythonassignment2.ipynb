{
 "cells": [
  {
   "cell_type": "code",
   "execution_count": 12,
   "id": "0f5c3e73-f051-4f6a-b3e9-f80632a23cd7",
   "metadata": {},
   "outputs": [],
   "source": [
    "def sum_of_squares(numbers):\n",
    "    \"\"\"\n",
    "    This function takes a list of numbers as input and calculates the sum of the squares of all the numbers in the list.\n",
    "    \"\"\"\n",
    "    # Initialize a variable to hold the sum of squares\n",
    "    sum_squares = 0\n",
    "    \n",
    "    # Loop through each number in the list\n",
    "    for number in numbers:\n",
    "        # Calculate the square of the current number\n",
    "        square = number ** 2\n",
    "        \n",
    "        # Add the square to the sum of squares\n",
    "        sum_squares += square\n",
    "    \n",
    "    # Return the final sum of squares\n",
    "    return sum_squares\n"
   ]
  },
  {
   "cell_type": "code",
   "execution_count": 14,
   "id": "e37fa3c5-1b8e-47e6-81de-ac099c2a5656",
   "metadata": {},
   "outputs": [
    {
     "name": "stdout",
     "output_type": "stream",
     "text": [
      "The sum of squares of [1, 2, 3, 4, 5] is 55\n"
     ]
    }
   ],
   "source": [
    "# Example usage\n",
    "numbers = [1, 2, 3, 4, 5]\n",
    "result = sum_of_squares(numbers)\n",
    "print(f\"The sum of squares of {numbers} is {result}\") "
   ]
  },
  {
   "cell_type": "code",
   "execution_count": null,
   "id": "60a8d9c4-c61c-437b-a69e-30cd6f52cc4e",
   "metadata": {},
   "outputs": [],
   "source": []
  }
 ],
 "metadata": {
  "kernelspec": {
   "display_name": "Python 3 (ipykernel)",
   "language": "python",
   "name": "python3"
  },
  "language_info": {
   "codemirror_mode": {
    "name": "ipython",
    "version": 3
   },
   "file_extension": ".py",
   "mimetype": "text/x-python",
   "name": "python",
   "nbconvert_exporter": "python",
   "pygments_lexer": "ipython3",
   "version": "3.10.8"
  }
 },
 "nbformat": 4,
 "nbformat_minor": 5
}
